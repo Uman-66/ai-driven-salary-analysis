{
 "cells": [
  {
   "cell_type": "code",
   "id": "initial_id",
   "metadata": {
    "collapsed": true,
    "jupyter": {
     "is_executing": true
    }
   },
   "source": [
    "import pandas as pd\n",
    "import numpy as np\n",
    "import matplotlib.pyplot as plt\n",
    "import seaborn as sns\n"
   ],
   "outputs": [],
   "execution_count": null
  },
  {
   "metadata": {},
   "cell_type": "code",
   "outputs": [],
   "execution_count": null,
   "source": [
    "so_data = pd.read_csv('../data/raw/SALARY DATA.csv')\n",
    "col_data = pd.read_csv('../data/raw/COL DATA.csv')\n",
    "gdp_data = pd.read_csv('../data/raw/GDP DATA.csv',encoding='utf-8-sig',skiprows=3)\n",
    "so_data = so_data.set_index('Unnamed: 0')\n",
    "print(so_data.shape, col_data.shape, gdp_data.shape)\n"
   ],
   "id": "d4ac33187fd7e3dd"
  },
  {
   "metadata": {},
   "cell_type": "code",
   "outputs": [],
   "execution_count": null,
   "source": "so_data.head()",
   "id": "5703ea8b210ca9d"
  },
  {
   "metadata": {},
   "cell_type": "code",
   "outputs": [],
   "execution_count": null,
   "source": "",
   "id": "d47ba0f6b640c486"
  }
 ],
 "metadata": {
  "kernelspec": {
   "display_name": "Python 3",
   "language": "python",
   "name": "python3"
  },
  "language_info": {
   "codemirror_mode": {
    "name": "ipython",
    "version": 2
   },
   "file_extension": ".py",
   "mimetype": "text/x-python",
   "name": "python",
   "nbconvert_exporter": "python",
   "pygments_lexer": "ipython2",
   "version": "2.7.6"
  }
 },
 "nbformat": 4,
 "nbformat_minor": 5
}
